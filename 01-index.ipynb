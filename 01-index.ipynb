{
 "cells": [
  {
   "cell_type": "code",
   "execution_count": 7,
   "metadata": {},
   "outputs": [
    {
     "name": "stdout",
     "output_type": "stream",
     "text": [
      "The remainder is less than half of the quotient: Quotient is 8 and remainder is 2\n"
     ]
    }
   ],
   "source": [
    "number = 34\n",
    "quotient = number//4\n",
    "remainder = number%4\n",
    "if remainder == 4:\n",
    "  print(f\"The remainder is half of the quotient: Quotient is {quotient} and remainder is {remainder}\")\n",
    "elif remainder < 4:\n",
    "  print(f\"The remainder is less than half of the quotient: Quotient is {quotient} and remainder is {remainder}\")\n",
    "else:\n",
    "  print(f\"The remainder is more than half of the quotient : Quotient is {quotient} and remainder is {remainder}\")"
   ]
  }
 ],
 "metadata": {
  "kernelspec": {
   "display_name": "Python 3",
   "language": "python",
   "name": "python3"
  },
  "language_info": {
   "codemirror_mode": {
    "name": "ipython",
    "version": 3
   },
   "file_extension": ".py",
   "mimetype": "text/x-python",
   "name": "python",
   "nbconvert_exporter": "python",
   "pygments_lexer": "ipython3",
   "version": "3.10.13"
  }
 },
 "nbformat": 4,
 "nbformat_minor": 2
}
